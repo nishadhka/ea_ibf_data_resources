{
 "cells": [
  {
   "cell_type": "code",
   "execution_count": null,
   "id": "435b354d",
   "metadata": {
    "ExecuteTime": {
     "end_time": "2022-08-06T21:00:07.650356Z",
     "start_time": "2022-08-06T21:00:07.643846Z"
    }
   },
   "outputs": [],
   "source": [
    "%load_ext dotenv\n",
    "%dotenv"
   ]
  },
  {
   "cell_type": "markdown",
   "id": "7f625a6e",
   "metadata": {},
   "source": [
    "## Administrative boundaries"
   ]
  },
  {
   "cell_type": "markdown",
   "id": "77f3b2c2",
   "metadata": {},
   "source": [
    "1. DJIBOUTI\n",
    "2. ETHIOPIA\n",
    "3. Eritrea\n",
    "4. KENYA\n",
    "5. SOMALIA\n",
    "6. SOUTH SUDAN\n",
    "7. SUDAN\n",
    "8. UGANDA\n",
    "9. BURUNDI\n",
    "10. RWANDA\n",
    "11. TANZANIA\n",
    "\n",
    "Manually downloaded from the website and placed the files under, the unzip and shp files organization by following script"
   ]
  },
  {
   "cell_type": "code",
   "execution_count": null,
   "id": "155ef5ed",
   "metadata": {},
   "outputs": [],
   "source": [
    "mkdir TZA\n",
    "mv gadm41_TZA_shp.zip TZA/\n",
    "cd TZA \n",
    "unzip gadm41_TZA_shp.zip\n",
    "cd ..\n",
    "\n",
    "\n",
    "mkdir UGA\n",
    "mv gadm41_UGA_shp.zip UGA/\n",
    "cd UGA \n",
    "unzip gadm41_UGA_shp.zip\n",
    "cd ..\n",
    "\n",
    "mkdir SSD\n",
    "mv gadm41_SSD_shp.zip SSD/\n",
    "cd SSD\n",
    "unzip gadm41_SSD_shp.zip\n",
    "cd ..\n",
    "\n",
    "mkdir SOM\n",
    "mv gadm41_SOM_shp.zip SOM/\n",
    "cd SOM\n",
    "unzip gadm41_SOM_shp.zip\n",
    "cd ..\n",
    "\n",
    "mkdir ETH\n",
    "mv gadm41_ETH_shp.zip ETH/\n",
    "cd ETH\n",
    "unzip gadm41_ETH_shp.zip\n",
    "cd ..\n",
    "\n",
    "mkdir RWA\n",
    "mv gadm41_RWA_shp.zip RWA/\n",
    "cd RWA\n",
    "unzip gadm41_RWA_shp.zip\n",
    "cd ..\n",
    "\n",
    "mkdir KEN\n",
    "mv gadm41_KEN_shp.zip KEN/\n",
    "cd KEN \n",
    "unzip gadm41_KEN_shp.zip\n",
    "cd ..\n",
    "\n",
    "mkdir BDI\n",
    "mv gadm41_BDI_shp.zip BDI/\n",
    "cd BDI\n",
    "unzip gadm41_BDI_shp.zip\n",
    "cd ..\n",
    "\n",
    "mkdir SDN\n",
    "mv gadm41_SDN_shp.zip SDN/\n",
    "cd SDN \n",
    "unzip gadm41_SDN_shp.zip\n",
    "cd ..\n",
    "\n",
    "mkdir ERI\n",
    "mv gadm41_ERI_shp.zip ERI/\n",
    "cd ERI \n",
    "unzip gadm41_ERI_shp.zip\n",
    "cd .."
   ]
  },
  {
   "cell_type": "code",
   "execution_count": null,
   "id": "612c3625",
   "metadata": {
    "ExecuteTime": {
     "end_time": "2022-08-06T21:00:11.615284Z",
     "start_time": "2022-08-06T21:00:11.610274Z"
    }
   },
   "outputs": [],
   "source": [
    "import os\n",
    "user_data_path=os.environ['data_path_administrative_boundary']"
   ]
  },
  {
   "cell_type": "code",
   "execution_count": null,
   "id": "b32a0d01",
   "metadata": {
    "ExecuteTime": {
     "end_time": "2022-08-06T21:00:21.042097Z",
     "start_time": "2022-08-06T21:00:21.035879Z"
    }
   },
   "outputs": [],
   "source": [
    "import glob\n",
    "\n",
    "import os\n",
    "root=user_data_path\n",
    "\n",
    "dirlist = [ item for item in os.listdir(root) if os.path.isdir(os.path.join(root, item)) ]"
   ]
  },
  {
   "cell_type": "code",
   "execution_count": null,
   "id": "d9e964e0",
   "metadata": {},
   "outputs": [],
   "source": [
    "1. the below print can be opened in QGIS as copy paste to vector view "
   ]
  },
  {
   "cell_type": "code",
   "execution_count": null,
   "id": "e8065be7",
   "metadata": {
    "ExecuteTime": {
     "end_time": "2022-08-06T21:05:50.714401Z",
     "start_time": "2022-08-06T21:05:50.708569Z"
    }
   },
   "outputs": [],
   "source": [
    "for dirs in dirlist:\n",
    "    print(f'\"{user_data_path}{dirs}/gadm41_{dirs}_0.shp\" ')\n"
   ]
  },
  {
   "cell_type": "code",
   "execution_count": null,
   "id": "0ee7e0a0",
   "metadata": {},
   "outputs": [],
   "source": []
  }
 ],
 "metadata": {
  "kernelspec": {
   "display_name": "Python 3 (ipykernel)",
   "language": "python",
   "name": "python3"
  },
  "language_info": {
   "codemirror_mode": {
    "name": "ipython",
    "version": 3
   },
   "file_extension": ".py",
   "mimetype": "text/x-python",
   "name": "python",
   "nbconvert_exporter": "python",
   "pygments_lexer": "ipython3",
   "version": "3.9.7"
  },
  "toc": {
   "base_numbering": 1,
   "nav_menu": {},
   "number_sections": true,
   "sideBar": true,
   "skip_h1_title": false,
   "title_cell": "Table of Contents",
   "title_sidebar": "Contents",
   "toc_cell": false,
   "toc_position": {},
   "toc_section_display": true,
   "toc_window_display": false
  }
 },
 "nbformat": 4,
 "nbformat_minor": 5
}
