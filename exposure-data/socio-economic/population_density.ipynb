{
 "cells": [
  {
   "cell_type": "markdown",
   "id": "0fb5f548",
   "metadata": {
    "ExecuteTime": {
     "end_time": "2022-08-04T13:59:58.684674Z",
     "start_time": "2022-08-04T13:59:58.672585Z"
    }
   },
   "source": [
    "# Population density data\n",
    "\n",
    "Gridded Population of the World (GPW), v4\n",
    "https://sedac.ciesin.columbia.edu/data/set/gpw-v4-population-density-rev11/data-download"
   ]
  },
  {
   "cell_type": "code",
   "execution_count": null,
   "id": "95c9a454",
   "metadata": {},
   "outputs": [],
   "source": []
  }
 ],
 "metadata": {
  "kernelspec": {
   "display_name": "Python 3 (ipykernel)",
   "language": "python",
   "name": "python3"
  },
  "language_info": {
   "codemirror_mode": {
    "name": "ipython",
    "version": 3
   },
   "file_extension": ".py",
   "mimetype": "text/x-python",
   "name": "python",
   "nbconvert_exporter": "python",
   "pygments_lexer": "ipython3",
   "version": "3.9.7"
  },
  "toc": {
   "base_numbering": 1,
   "nav_menu": {},
   "number_sections": true,
   "sideBar": true,
   "skip_h1_title": false,
   "title_cell": "Table of Contents",
   "title_sidebar": "Contents",
   "toc_cell": false,
   "toc_position": {},
   "toc_section_display": true,
   "toc_window_display": false
  }
 },
 "nbformat": 4,
 "nbformat_minor": 5
}
